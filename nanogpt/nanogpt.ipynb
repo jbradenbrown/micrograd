{
 "cells": [
  {
   "cell_type": "code",
   "execution_count": 26,
   "id": "537989dc",
   "metadata": {},
   "outputs": [],
   "source": [
    "import pandas as pd\n",
    "import numpy as np\n",
    "import torch\n",
    "import torch.nn as nn\n",
    "from torch.nn import functional as F"
   ]
  },
  {
   "cell_type": "code",
   "execution_count": 4,
   "id": "f6bb4cdd",
   "metadata": {},
   "outputs": [],
   "source": [
    "# Load raw text\n",
    "text = open('tinyshakespeare.txt','r').read()"
   ]
  },
  {
   "cell_type": "code",
   "execution_count": 8,
   "id": "a6c26341",
   "metadata": {},
   "outputs": [
    {
     "name": "stdout",
     "output_type": "stream",
     "text": [
      "\n",
      " !$&',-.3:;?ABCDEFGHIJKLMNOPQRSTUVWXYZabcdefghijklmnopqrstuvwxyz\n",
      "65\n"
     ]
    }
   ],
   "source": [
    "# Get the unique characters\n",
    "chars = sorted(list(set(text)))\n",
    "vocab_size = len(chars)\n",
    "print(''.join(chars))\n",
    "print(vocab_size)"
   ]
  },
  {
   "cell_type": "code",
   "execution_count": 43,
   "id": "72f4c09d",
   "metadata": {},
   "outputs": [
    {
     "name": "stdout",
     "output_type": "stream",
     "text": [
      "[46, 43, 50, 50, 53]\n",
      "hello\n"
     ]
    }
   ],
   "source": [
    "# encoders and decoders\n",
    "stoi = { ch:i for i,ch in enumerate(chars) }\n",
    "itos = { i:ch for i,ch in enumerate(chars) }\n",
    "encode = lambda s: [stoi[c] for c in s]\n",
    "decode = lambda l: ''.join([itos[i] for i in l])\n",
    "\n",
    "print(encode('hello'))\n",
    "print(decode(encode('hello')))"
   ]
  },
  {
   "cell_type": "code",
   "execution_count": 44,
   "id": "fbec2af9",
   "metadata": {},
   "outputs": [],
   "source": [
    "# encode the text\n",
    "data = torch.tensor(encode(text), dtype=torch.long)"
   ]
  },
  {
   "cell_type": "code",
   "execution_count": 45,
   "id": "ae2398ba",
   "metadata": {},
   "outputs": [],
   "source": [
    "# split the data\n",
    "n = int(0.9*len(data))\n",
    "train_data = data[:n]\n",
    "val_data = data[n:]"
   ]
  },
  {
   "cell_type": "code",
   "execution_count": 46,
   "id": "66006816",
   "metadata": {},
   "outputs": [
    {
     "data": {
      "text/plain": [
       "tensor([18, 47, 56, 57, 58,  1, 15, 47, 58])"
      ]
     },
     "execution_count": 46,
     "metadata": {},
     "output_type": "execute_result"
    }
   ],
   "source": [
    "block_size = 8\n",
    "train_data[:block_size+1]"
   ]
  },
  {
   "cell_type": "code",
   "execution_count": 47,
   "id": "015f5940",
   "metadata": {},
   "outputs": [
    {
     "name": "stdout",
     "output_type": "stream",
     "text": [
      "tensor([18]) => 47\n",
      "tensor([18, 47]) => 56\n",
      "tensor([18, 47, 56]) => 57\n",
      "tensor([18, 47, 56, 57]) => 58\n",
      "tensor([18, 47, 56, 57, 58]) => 1\n",
      "tensor([18, 47, 56, 57, 58,  1]) => 15\n",
      "tensor([18, 47, 56, 57, 58,  1, 15]) => 47\n",
      "tensor([18, 47, 56, 57, 58,  1, 15, 47]) => 58\n"
     ]
    }
   ],
   "source": [
    "x = train_data[:block_size]\n",
    "y = train_data[1:block_size+1]\n",
    "for t in range(block_simaxze):\n",
    "  context = x[:t+1]\n",
    "  target = y[t]\n",
    "  print(f\"{context} => {target}\")"
   ]
  },
  {
   "cell_type": "code",
   "execution_count": 48,
   "id": "0f9e3c76",
   "metadata": {},
   "outputs": [
    {
     "name": "stdout",
     "output_type": "stream",
     "text": [
      "inputs: torch.Size([4, 8])\n",
      "tensor([[24, 43, 58,  5, 57,  1, 46, 43],\n",
      "        [44, 53, 56,  1, 58, 46, 39, 58],\n",
      "        [52, 58,  1, 58, 46, 39, 58,  1],\n",
      "        [25, 17, 27, 10,  0, 21,  1, 54]])\n",
      "targets: torch.Size([4, 8])\n",
      "tensor([[43, 58,  5, 57,  1, 46, 43, 39],\n",
      "        [53, 56,  1, 58, 46, 39, 58,  1],\n",
      "        [58,  1, 58, 46, 39, 58,  1, 46],\n",
      "        [17, 27, 10,  0, 21,  1, 54, 39]])\n",
      "--------------\n",
      "tensor([24]) => 43\n",
      "tensor([24, 43]) => 58\n",
      "tensor([24, 43, 58]) => 5\n",
      "tensor([24, 43, 58,  5]) => 57\n",
      "tensor([24, 43, 58,  5, 57]) => 1\n",
      "tensor([24, 43, 58,  5, 57,  1]) => 46\n",
      "tensor([24, 43, 58,  5, 57,  1, 46]) => 43\n",
      "tensor([24, 43, 58,  5, 57,  1, 46, 43]) => 39\n",
      "tensor([44]) => 53\n",
      "tensor([44, 53]) => 56\n",
      "tensor([44, 53, 56]) => 1\n",
      "tensor([44, 53, 56,  1]) => 58\n",
      "tensor([44, 53, 56,  1, 58]) => 46\n",
      "tensor([44, 53, 56,  1, 58, 46]) => 39\n",
      "tensor([44, 53, 56,  1, 58, 46, 39]) => 58\n",
      "tensor([44, 53, 56,  1, 58, 46, 39, 58]) => 1\n",
      "tensor([52]) => 58\n",
      "tensor([52, 58]) => 1\n",
      "tensor([52, 58,  1]) => 58\n",
      "tensor([52, 58,  1, 58]) => 46\n",
      "tensor([52, 58,  1, 58, 46]) => 39\n",
      "tensor([52, 58,  1, 58, 46, 39]) => 58\n",
      "tensor([52, 58,  1, 58, 46, 39, 58]) => 1\n",
      "tensor([52, 58,  1, 58, 46, 39, 58,  1]) => 46\n",
      "tensor([25]) => 17\n",
      "tensor([25, 17]) => 27\n",
      "tensor([25, 17, 27]) => 10\n",
      "tensor([25, 17, 27, 10]) => 0\n",
      "tensor([25, 17, 27, 10,  0]) => 21\n",
      "tensor([25, 17, 27, 10,  0, 21]) => 1\n",
      "tensor([25, 17, 27, 10,  0, 21,  1]) => 54\n",
      "tensor([25, 17, 27, 10,  0, 21,  1, 54]) => 39\n"
     ]
    }
   ],
   "source": [
    "torch.manual_seed(1337)\n",
    "batch_size = 4\n",
    "block_size = 8\n",
    "\n",
    "def get_batch(split):\n",
    "  data = train_data if split == 'train' else val_data\n",
    "  ix = torch.randint(len(data) - block_size, (batch_size,))\n",
    "  x = torch.stack([data[i:i+block_size] for i in ix])\n",
    "  y = torch.stack([data[i+1:i+block_size+1] for i in ix])\n",
    "  return x,y\n",
    "\n",
    "xb, yb = get_batch('train')\n",
    "print(f\"inputs: {xb.shape}\\n{xb}\")\n",
    "print(f\"targets: {yb.shape}\\n{yb}\")\n",
    "print(\"--------------\")\n",
    "\n",
    "for b in range(batch_size):\n",
    "  for t in range(block_size):\n",
    "    context = xb[b, :t+1]\n",
    "    target = yb[b,t]\n",
    "    print(f\"{context} => {target}\")"
   ]
  },
  {
   "cell_type": "code",
   "execution_count": 49,
   "id": "e58b8d8c",
   "metadata": {},
   "outputs": [
    {
     "name": "stdout",
     "output_type": "stream",
     "text": [
      "torch.Size([32, 65])\n",
      "tensor(5.0364, grad_fn=<NllLossBackward0>)\n",
      "\n",
      "lfJeukRuaRJKXAYtXzfJ:HEPiu--sDioi;ILCo3pHNTmDwJsfheKRxZCFs\n",
      "lZJ XQc?:s:HEzEnXalEPklcPU cL'DpdLCafBheH\n"
     ]
    }
   ],
   "source": [
    "class BigramLanguageModel(nn.Module):\n",
    "  \n",
    "  def __init__(self, vocab_size):\n",
    "    super().__init__()\n",
    "    self.token_embedding_table = nn.Embedding(vocab_size, vocab_size)\n",
    "    \n",
    "  def forward(self, idx, targets=None):\n",
    "    \n",
    "    logits = self.token_embedding_table(idx)\n",
    "    \n",
    "    if targets is None:\n",
    "      loss = None\n",
    "    else:\n",
    "      B, T, C = logits.shape\n",
    "      logits = logits.view(B*T, C)\n",
    "      targets = targets.view(B*T)\n",
    "      loss = F.cross_entropy(logits, targets)\n",
    "    \n",
    "    return logits, loss\n",
    "  \n",
    "  def generate(self, idx, max_new_tokens):\n",
    "    for _ in range(max_new_tokens):\n",
    "      logits, loss = self(idx)\n",
    "      logits = logits[:, -1, :]\n",
    "      probs = F.softmax(logits, dim=-1)\n",
    "      idx_next = torch.multinomial(probs, num_samples=1)\n",
    "      idx = torch.cat((idx, idx_next), dim=1)\n",
    "    return idx\n",
    "  \n",
    "m = BigramLanguageModel(vocab_size)\n",
    "out, loss = m(xb, yb)\n",
    "print(out.shape)\n",
    "print(loss)\n",
    "\n",
    "idx = torch.zeros((1,1), dtype = torch.long)\n",
    "print(decode(m.generate(idx, max_new_tokens=100)[0].tolist()))"
   ]
  },
  {
   "cell_type": "code",
   "execution_count": 50,
   "id": "0e9854da",
   "metadata": {},
   "outputs": [],
   "source": [
    "# PyTorch Optimizer\n",
    "optimizer = torch.optim.AdamW(m.parameters(), lr=1e-3)"
   ]
  },
  {
   "cell_type": "code",
   "execution_count": 53,
   "id": "d96d7ebd",
   "metadata": {},
   "outputs": [
    {
     "name": "stdout",
     "output_type": "stream",
     "text": [
      "2.3645713329315186\n"
     ]
    }
   ],
   "source": [
    "batch_size = 32\n",
    "for steps in range(10000):\n",
    "  \n",
    "  xb,yb = get_batch('train')\n",
    "  \n",
    "  logits, loss = m(xb, yb)\n",
    "  optimizer.zero_grad(set_to_none=True)\n",
    "  loss.backward()\n",
    "  optimizer.step()\n",
    "  \n",
    "print(loss.item())"
   ]
  },
  {
   "cell_type": "code",
   "execution_count": 55,
   "id": "b3437cc7",
   "metadata": {},
   "outputs": [
    {
     "name": "stdout",
     "output_type": "stream",
     "text": [
      "\n",
      "Seve bed, ld OROR:\n",
      "Dores,\n",
      "IOMyoninon.\n",
      "O, corspappand ber's then t, la cks boceme,\n",
      "\n",
      "\n",
      "Foure ys!\n",
      "Manin t atheresue mo-OMIS:\n",
      "Y:\n",
      "JUCI y fe das withondo!\n",
      "SSheamind RYofouso neer wal,\n",
      "OMAUCar,\n",
      "VOred wharso mers adeatharllencaze trts Y brds be oy.\n",
      "K: t men I be anthechy the ont\n",
      "\n",
      "blinithterurighe pld y,\n",
      "De omoo besintht hincr he t t norttoy, thod. po ham tslel\n",
      "\n",
      "Bim ord couecor INo, thangh sermncello t y, f\n"
     ]
    }
   ],
   "source": [
    "print(decode(m.generate(idx, max_new_tokens=400)[0].tolist()))"
   ]
  },
  {
   "cell_type": "code",
   "execution_count": 60,
   "id": "a4527d85",
   "metadata": {},
   "outputs": [],
   "source": [
    "\n",
    "B,T,C = 4,8,2\n",
    "x = torch.randn(B,T,C)\n",
    "\n",
    "#x[b,t] = mean over i <= t of x[b,i]\n",
    "xbow = torch.zeros((B,T,C))\n",
    "for b in range(B):\n",
    "  for t in range(T):\n",
    "    xprev = x[b,:t+1]\n",
    "    xbow[b,t] = torch.mean(xprev, 0)"
   ]
  },
  {
   "cell_type": "code",
   "execution_count": 61,
   "id": "f78bf6ee",
   "metadata": {},
   "outputs": [
    {
     "data": {
      "text/plain": [
       "tensor([[-0.9966, -1.1894],\n",
       "        [-0.2304, -0.7437],\n",
       "        [ 0.1511, -0.1415],\n",
       "        [ 0.1348,  0.1488],\n",
       "        [ 0.0854,  0.4298],\n",
       "        [ 0.0167,  0.1611],\n",
       "        [ 0.0374,  0.0828],\n",
       "        [-0.0412,  0.2217]])"
      ]
     },
     "execution_count": 61,
     "metadata": {},
     "output_type": "execute_result"
    }
   ],
   "source": [
    "xbow[0]"
   ]
  },
  {
   "cell_type": "code",
   "execution_count": 62,
   "id": "ca86359e",
   "metadata": {},
   "outputs": [
    {
     "data": {
      "text/plain": [
       "tensor([[-0.9966, -1.1894],\n",
       "        [ 0.5359, -0.2980],\n",
       "        [ 0.9140,  1.0630],\n",
       "        [ 0.0860,  1.0196],\n",
       "        [-0.1125,  1.5539],\n",
       "        [-0.3264, -1.1824],\n",
       "        [ 0.1614, -0.3868],\n",
       "        [-0.5914,  1.1934]])"
      ]
     },
     "execution_count": 62,
     "metadata": {},
     "output_type": "execute_result"
    }
   ],
   "source": [
    "x[0]"
   ]
  },
  {
   "cell_type": "code",
   "execution_count": 64,
   "id": "3993765c",
   "metadata": {},
   "outputs": [
    {
     "data": {
      "text/plain": [
       "-0.2"
      ]
     },
     "execution_count": 64,
     "metadata": {},
     "output_type": "execute_result"
    }
   ],
   "source": [
    "(-0.9+0.5)/2"
   ]
  },
  {
   "cell_type": "code",
   "execution_count": 105,
   "id": "5b3139ed",
   "metadata": {},
   "outputs": [],
   "source": [
    "mat = torch.tril(torch.ones(8,8))/torch.tril(torch.ones(8,8)).sum(1).view(-1,1)"
   ]
  },
  {
   "cell_type": "code",
   "execution_count": 107,
   "id": "31e99366",
   "metadata": {},
   "outputs": [
    {
     "data": {
      "text/plain": [
       "tensor([[-0.9966, -1.1894],\n",
       "        [-0.2304, -0.7437],\n",
       "        [ 0.1511, -0.1415],\n",
       "        [ 0.1348,  0.1488],\n",
       "        [ 0.0854,  0.4298],\n",
       "        [ 0.0167,  0.1611],\n",
       "        [ 0.0374,  0.0828],\n",
       "        [-0.0412,  0.2217]])"
      ]
     },
     "execution_count": 107,
     "metadata": {},
     "output_type": "execute_result"
    }
   ],
   "source": [
    "mat @ x[0]"
   ]
  },
  {
   "cell_type": "code",
   "execution_count": 130,
   "id": "36a9e0e7",
   "metadata": {},
   "outputs": [
    {
     "data": {
      "text/plain": [
       "torch.Size([4, 8, 16])"
      ]
     },
     "execution_count": 130,
     "metadata": {},
     "output_type": "execute_result"
    }
   ],
   "source": [
    "# self attention\n",
    "torch.manual_seed(1337)\n",
    "B,T,C = 4,8,32\n",
    "x = torch.randn(B,T,C)\n",
    "\n",
    "head_size = 16\n",
    "key = nn.Linear(C, head_size, bias=False)\n",
    "query = nn.Linear(C, head_size, bias=False)\n",
    "value = nn.Linear(C, head_size, bias=False)\n",
    "k = key(x) # (B, T, 16)\n",
    "q = query(x) # (B, T, 16)\n",
    "wei = q @ k.transpose(-2, -1) * head_size**-0.5\n",
    "\n",
    "tril = torch.tril(torch.ones(T,T))\n",
    "#wei = torch.zeros((T,T))\n",
    "wei = wei.masked_fill(tril == 0, float('-inf'))\n",
    "wei = F.softmax(wei, dim=-1)\n",
    "\n",
    "v = value(x)\n",
    "out = wei @ v\n",
    "\n",
    "out.shape"
   ]
  },
  {
   "cell_type": "code",
   "execution_count": 131,
   "id": "e84de149",
   "metadata": {},
   "outputs": [
    {
     "data": {
      "text/plain": [
       "torch.Size([4, 16, 8])"
      ]
     },
     "execution_count": 131,
     "metadata": {},
     "output_type": "execute_result"
    }
   ],
   "source": [
    "k.transpose(-2,-1).shape"
   ]
  },
  {
   "cell_type": "code",
   "execution_count": 132,
   "id": "fa09c9ac",
   "metadata": {},
   "outputs": [
    {
     "data": {
      "text/plain": [
       "torch.Size([4, 8, 16])"
      ]
     },
     "execution_count": 132,
     "metadata": {},
     "output_type": "execute_result"
    }
   ],
   "source": [
    "k.shape"
   ]
  },
  {
   "cell_type": "code",
   "execution_count": 133,
   "id": "aa2cb7f3",
   "metadata": {},
   "outputs": [
    {
     "data": {
      "text/plain": [
       "tensor(0.0287, grad_fn=<VarBackward0>)"
      ]
     },
     "execution_count": 133,
     "metadata": {},
     "output_type": "execute_result"
    }
   ],
   "source": [
    "wei.var()"
   ]
  },
  {
   "cell_type": "code",
   "execution_count": 134,
   "id": "3f2de28f",
   "metadata": {},
   "outputs": [
    {
     "data": {
      "text/plain": [
       "tensor(0.3164, grad_fn=<VarBackward0>)"
      ]
     },
     "execution_count": 134,
     "metadata": {},
     "output_type": "execute_result"
    }
   ],
   "source": [
    "k.var()"
   ]
  },
  {
   "cell_type": "code",
   "execution_count": 135,
   "id": "732e8323",
   "metadata": {},
   "outputs": [
    {
     "data": {
      "text/plain": [
       "tensor(0.3386, grad_fn=<VarBackward0>)"
      ]
     },
     "execution_count": 135,
     "metadata": {},
     "output_type": "execute_result"
    }
   ],
   "source": [
    "q.var()"
   ]
  },
  {
   "cell_type": "code",
   "execution_count": 141,
   "id": "9a662401",
   "metadata": {},
   "outputs": [],
   "source": [
    "k = torch.randn((B,T,16))\n",
    "q = torch.randn((B,T,16))\n",
    "wei = q @ k.transpose(-2, -1) * head_size**-0.5"
   ]
  },
  {
   "cell_type": "code",
   "execution_count": 142,
   "id": "4b763c6a",
   "metadata": {},
   "outputs": [
    {
     "data": {
      "text/plain": [
       "tensor(1.0037)"
      ]
     },
     "execution_count": 142,
     "metadata": {},
     "output_type": "execute_result"
    }
   ],
   "source": [
    "k.var()"
   ]
  },
  {
   "cell_type": "code",
   "execution_count": 143,
   "id": "60c47a0b",
   "metadata": {},
   "outputs": [
    {
     "data": {
      "text/plain": [
       "tensor(1.0966)"
      ]
     },
     "execution_count": 143,
     "metadata": {},
     "output_type": "execute_result"
    }
   ],
   "source": [
    "q.var()"
   ]
  },
  {
   "cell_type": "code",
   "execution_count": 144,
   "id": "89abd3e6",
   "metadata": {},
   "outputs": [
    {
     "data": {
      "text/plain": [
       "tensor(1.2769)"
      ]
     },
     "execution_count": 144,
     "metadata": {},
     "output_type": "execute_result"
    }
   ],
   "source": [
    "wei.var()"
   ]
  },
  {
   "cell_type": "code",
   "execution_count": null,
   "id": "a8385871",
   "metadata": {},
   "outputs": [],
   "source": []
  }
 ],
 "metadata": {
  "kernelspec": {
   "display_name": "Python 3 (ipykernel)",
   "language": "python",
   "name": "python3"
  },
  "language_info": {
   "codemirror_mode": {
    "name": "ipython",
    "version": 3
   },
   "file_extension": ".py",
   "mimetype": "text/x-python",
   "name": "python",
   "nbconvert_exporter": "python",
   "pygments_lexer": "ipython3",
   "version": "3.10.6"
  }
 },
 "nbformat": 4,
 "nbformat_minor": 5
}
